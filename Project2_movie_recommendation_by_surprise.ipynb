{
  "cells": [
    {
      "cell_type": "markdown",
      "metadata": {
        "id": "view-in-github",
        "colab_type": "text"
      },
      "source": [
        "<a href=\"https://colab.research.google.com/github/Nandini1230/CodeClauseInternship_Movie-Recommendation-System/blob/main/Project2_movie_recommendation_by_surprise.ipynb\" target=\"_parent\"><img src=\"https://colab.research.google.com/assets/colab-badge.svg\" alt=\"Open In Colab\"/></a>"
      ]
    },
    {
      "cell_type": "markdown",
      "id": "7342a2af",
      "metadata": {
        "papermill": {
          "duration": 0.00561,
          "end_time": "2023-06-16T08:06:14.925787",
          "exception": false,
          "start_time": "2023-06-16T08:06:14.920177",
          "status": "completed"
        },
        "tags": [],
        "id": "7342a2af"
      },
      "source": [
        "# Movie Recommendation by Surprise"
      ]
    },
    {
      "cell_type": "markdown",
      "id": "1f5c5258",
      "metadata": {
        "papermill": {
          "duration": 0.004882,
          "end_time": "2023-06-16T08:06:14.936306",
          "exception": false,
          "start_time": "2023-06-16T08:06:14.931424",
          "status": "completed"
        },
        "tags": [],
        "id": "1f5c5258"
      },
      "source": [
        "## Matrix Factorization method for Collaborative Filtering\n",
        "Matrix Factorization is a popular technique used in collaborative filtering to predict user-item ratings based on the previous ratings given by users. Collaborative Filtering is a type of recommendation system that relies on the past behavior of similar users/items to make recommendations.\n",
        "\n",
        "Matrix Factorization is based on the idea of decomposing the user-item rating matrix into two lower-dimensional matrices: one representing users and the other representing items. The lower-dimensional representation captures the latent factors or features that influence a user's preference for an item. The factors may include, for example, the genre of the movie, the director, the actors, or the user's age, gender, etc.\n"
      ]
    },
    {
      "cell_type": "code",
      "source": [
        "%pip install scikit-surprise"
      ],
      "metadata": {
        "colab": {
          "base_uri": "https://localhost:8080/"
        },
        "id": "Bj59G_6_Mh3i",
        "outputId": "99e5b691-e5d0-4008-fc3f-e7bb22efa9e9"
      },
      "id": "Bj59G_6_Mh3i",
      "execution_count": 3,
      "outputs": [
        {
          "output_type": "stream",
          "name": "stdout",
          "text": [
            "Requirement already satisfied: scikit-surprise in /usr/local/lib/python3.10/dist-packages (1.1.3)\n",
            "Requirement already satisfied: joblib>=1.0.0 in /usr/local/lib/python3.10/dist-packages (from scikit-surprise) (1.3.2)\n",
            "Requirement already satisfied: numpy>=1.17.3 in /usr/local/lib/python3.10/dist-packages (from scikit-surprise) (1.23.5)\n",
            "Requirement already satisfied: scipy>=1.3.2 in /usr/local/lib/python3.10/dist-packages (from scikit-surprise) (1.11.3)\n"
          ]
        }
      ]
    },
    {
      "cell_type": "code",
      "execution_count": 4,
      "id": "b2ef6419",
      "metadata": {
        "execution": {
          "iopub.execute_input": "2023-06-16T08:06:14.949053Z",
          "iopub.status.busy": "2023-06-16T08:06:14.948463Z",
          "iopub.status.idle": "2023-06-16T08:06:16.540971Z",
          "shell.execute_reply": "2023-06-16T08:06:16.539949Z"
        },
        "papermill": {
          "duration": 1.602195,
          "end_time": "2023-06-16T08:06:16.543708",
          "exception": false,
          "start_time": "2023-06-16T08:06:14.941513",
          "status": "completed"
        },
        "tags": [],
        "id": "b2ef6419"
      },
      "outputs": [],
      "source": [
        "import sys\n",
        "import random\n",
        "from surprise import Dataset, Reader\n",
        "from surprise import KNNBasic\n",
        "from surprise.model_selection import train_test_split\n",
        "from surprise import accuracy\n",
        "from surprise.dataset import DatasetAutoFolds\n",
        "import matplotlib.pyplot as plt\n",
        "import seaborn as sns\n",
        "import pandas as pd\n",
        "import operator\n",
        "import requests\n",
        "from zipfile import ZipFile"
      ]
    },
    {
      "cell_type": "code",
      "execution_count": 5,
      "id": "bcca67be",
      "metadata": {
        "execution": {
          "iopub.execute_input": "2023-06-16T08:06:16.555631Z",
          "iopub.status.busy": "2023-06-16T08:06:16.555248Z",
          "iopub.status.idle": "2023-06-16T08:06:33.251356Z",
          "shell.execute_reply": "2023-06-16T08:06:33.249994Z"
        },
        "papermill": {
          "duration": 16.704911,
          "end_time": "2023-06-16T08:06:33.253795",
          "exception": false,
          "start_time": "2023-06-16T08:06:16.548884",
          "status": "completed"
        },
        "tags": [],
        "colab": {
          "base_uri": "https://localhost:8080/"
        },
        "id": "bcca67be",
        "outputId": "ed1dcf1a-2f12-4ead-cfe1-4deafedfcc42"
      },
      "outputs": [
        {
          "output_type": "stream",
          "name": "stderr",
          "text": [
            "<ipython-input-5-e2048e7275da>:1: FutureWarning: The error_bad_lines argument has been deprecated and will be removed in a future version. Use on_bad_lines in the future.\n",
            "\n",
            "\n",
            "  df = pd.read_csv('ratings.csv',\n",
            "<ipython-input-5-e2048e7275da>:1: FutureWarning: The warn_bad_lines argument has been deprecated and will be removed in a future version. Use on_bad_lines in the future.\n",
            "\n",
            "\n",
            "  df = pd.read_csv('ratings.csv',\n"
          ]
        },
        {
          "output_type": "stream",
          "name": "stdout",
          "text": [
            "9249\n"
          ]
        }
      ],
      "source": [
        "df = pd.read_csv('ratings.csv',\n",
        "                          error_bad_lines=False,\n",
        "                          warn_bad_lines=False,\n",
        "                          skiprows=lambda i: i>0 and random.random() > 0.002)\n",
        "print(len(df))"
      ]
    },
    {
      "cell_type": "code",
      "execution_count": 6,
      "id": "9ea6357a",
      "metadata": {
        "execution": {
          "iopub.execute_input": "2023-06-16T08:06:33.266783Z",
          "iopub.status.busy": "2023-06-16T08:06:33.265699Z",
          "iopub.status.idle": "2023-06-16T08:06:33.271218Z",
          "shell.execute_reply": "2023-06-16T08:06:33.270144Z"
        },
        "papermill": {
          "duration": 0.014378,
          "end_time": "2023-06-16T08:06:33.273588",
          "exception": false,
          "start_time": "2023-06-16T08:06:33.259210",
          "status": "completed"
        },
        "tags": [],
        "id": "9ea6357a"
      },
      "outputs": [],
      "source": [
        "df=df[0:20000]"
      ]
    },
    {
      "cell_type": "code",
      "execution_count": 7,
      "id": "61a9b8d2",
      "metadata": {
        "execution": {
          "iopub.execute_input": "2023-06-16T08:06:33.287929Z",
          "iopub.status.busy": "2023-06-16T08:06:33.287173Z",
          "iopub.status.idle": "2023-06-16T08:06:33.332152Z",
          "shell.execute_reply": "2023-06-16T08:06:33.330846Z"
        },
        "papermill": {
          "duration": 0.053998,
          "end_time": "2023-06-16T08:06:33.334667",
          "exception": false,
          "start_time": "2023-06-16T08:06:33.280669",
          "status": "completed"
        },
        "tags": [],
        "colab": {
          "base_uri": "https://localhost:8080/"
        },
        "id": "61a9b8d2",
        "outputId": "98fd1dff-88f7-4b1d-94c8-2b04c679b5c2"
      },
      "outputs": [
        {
          "output_type": "stream",
          "name": "stdout",
          "text": [
            "<class 'surprise.dataset.DatasetAutoFolds'>\n"
          ]
        }
      ],
      "source": [
        "reader = Reader(rating_scale=(1,5))\n",
        "data = Dataset.load_from_df(df[['userId','movieId','rating']], reader)\n",
        "print(type(data))"
      ]
    },
    {
      "cell_type": "markdown",
      "id": "e2f574b4",
      "metadata": {
        "papermill": {
          "duration": 0.005243,
          "end_time": "2023-06-16T08:06:33.345720",
          "exception": false,
          "start_time": "2023-06-16T08:06:33.340477",
          "status": "completed"
        },
        "tags": [],
        "id": "e2f574b4"
      },
      "source": [
        "Sample datasets provided by the Surprise package are as follows.\n",
        "\n",
        "* ml-100k: MovieLens dataset containing 100,000 ratings.\n",
        "* ml-1m: MovieLens dataset containing 1,000,000 ratings.\n",
        "* jester: Jester dataset. Anything that includes online joke ratings.\n",
        "* bookcrossing: Book-Crossing dataset. Including book ratings.\n",
        "* movielens: MovieLens dataset. There are four versions, 100k, 1M, 10M and 20M, each containing a corresponding number of ratings."
      ]
    },
    {
      "cell_type": "code",
      "execution_count": 8,
      "id": "0b1f9959",
      "metadata": {
        "execution": {
          "iopub.execute_input": "2023-06-16T08:06:33.359387Z",
          "iopub.status.busy": "2023-06-16T08:06:33.358072Z",
          "iopub.status.idle": "2023-06-16T08:06:33.401874Z",
          "shell.execute_reply": "2023-06-16T08:06:33.400573Z"
        },
        "papermill": {
          "duration": 0.053604,
          "end_time": "2023-06-16T08:06:33.404713",
          "exception": false,
          "start_time": "2023-06-16T08:06:33.351109",
          "status": "completed"
        },
        "tags": [],
        "colab": {
          "base_uri": "https://localhost:8080/"
        },
        "id": "0b1f9959",
        "outputId": "493c9778-ae7b-469f-e5dc-f05880de7cfd"
      },
      "outputs": [
        {
          "output_type": "stream",
          "name": "stdout",
          "text": [
            "<class 'surprise.trainset.Trainset'>\n"
          ]
        }
      ],
      "source": [
        "# Split the data into training and testing sets\n",
        "trainset, testset = train_test_split(data, test_size=0.25)\n",
        "print(type(trainset))"
      ]
    },
    {
      "cell_type": "code",
      "execution_count": 9,
      "id": "a224d1e3",
      "metadata": {
        "execution": {
          "iopub.execute_input": "2023-06-16T08:06:33.417580Z",
          "iopub.status.busy": "2023-06-16T08:06:33.417172Z",
          "iopub.status.idle": "2023-06-16T08:06:33.424356Z",
          "shell.execute_reply": "2023-06-16T08:06:33.423227Z"
        },
        "papermill": {
          "duration": 0.016417,
          "end_time": "2023-06-16T08:06:33.426688",
          "exception": false,
          "start_time": "2023-06-16T08:06:33.410271",
          "status": "completed"
        },
        "tags": [],
        "colab": {
          "base_uri": "https://localhost:8080/"
        },
        "id": "a224d1e3",
        "outputId": "1006e314-9e5b-4a6e-9eb6-d87482b23e31"
      },
      "outputs": [
        {
          "output_type": "stream",
          "name": "stdout",
          "text": [
            "User 0 rated item 0 with a rating of 4.0\n",
            "User 0 rated item 326 with a rating of 3.5\n",
            "User 0 rated item 549 with a rating of 2.5\n",
            "User 0 rated item 43 with a rating of 3.0\n",
            "User 0 rated item 1476 with a rating of 3.5\n",
            "\n",
            "User 8407 rated item 50872 with a rating of 3.5\n",
            "User 3831 rated item 4310 with a rating of 1.0\n",
            "User 29102 rated item 745 with a rating of 5.0\n",
            "User 29021 rated item 1073 with a rating of 4.0\n",
            "User 7420 rated item 63082 with a rating of 5.0\n",
            "\n",
            "6936 2313\n"
          ]
        }
      ],
      "source": [
        "import itertools\n",
        "\n",
        "for uid, iid, rating in itertools.islice(trainset.all_ratings(), 5):\n",
        "    print(f\"User {uid} rated item {iid} with a rating of {rating}\")\n",
        "\n",
        "print()\n",
        "for uid, iid, rating in testset[:5]:\n",
        "    print(f\"User {uid} rated item {iid} with a rating of {rating}\")\n",
        "\n",
        "print()\n",
        "print(trainset.n_ratings,len(testset))"
      ]
    },
    {
      "cell_type": "markdown",
      "id": "0371e4b5",
      "metadata": {
        "papermill": {
          "duration": 0.005231,
          "end_time": "2023-06-16T08:06:33.437593",
          "exception": false,
          "start_time": "2023-06-16T08:06:33.432362",
          "status": "completed"
        },
        "tags": [],
        "id": "0371e4b5"
      },
      "source": [
        "## KNNBasic\n",
        "KNNBasic is one of the algorithms for making recommendations based on collaborative filtering in the Surprise library. KNN stands for k-nearest neighbors, and this algorithm makes recommendations by finding a set of similar items or users in close proximity and predicting ratings based on them."
      ]
    },
    {
      "cell_type": "code",
      "execution_count": 10,
      "id": "79fcf1fc",
      "metadata": {
        "execution": {
          "iopub.execute_input": "2023-06-16T08:06:33.450777Z",
          "iopub.status.busy": "2023-06-16T08:06:33.450122Z",
          "iopub.status.idle": "2023-06-16T08:06:36.595412Z",
          "shell.execute_reply": "2023-06-16T08:06:36.594303Z"
        },
        "papermill": {
          "duration": 3.156432,
          "end_time": "2023-06-16T08:06:36.599366",
          "exception": false,
          "start_time": "2023-06-16T08:06:33.442934",
          "status": "completed"
        },
        "tags": [],
        "colab": {
          "base_uri": "https://localhost:8080/"
        },
        "id": "79fcf1fc",
        "outputId": "968868db-5065-42e0-e1f9-5451227ef801"
      },
      "outputs": [
        {
          "output_type": "stream",
          "name": "stdout",
          "text": [
            "Computing the msd similarity matrix...\n",
            "Done computing similarity matrix.\n"
          ]
        },
        {
          "output_type": "execute_result",
          "data": {
            "text/plain": [
              "<surprise.prediction_algorithms.knns.KNNBasic at 0x7c9557110ac0>"
            ]
          },
          "metadata": {},
          "execution_count": 10
        }
      ],
      "source": [
        "# Use the KNNBasic algorithm to train the model\n",
        "algo = KNNBasic()\n",
        "algo.fit(trainset)"
      ]
    },
    {
      "cell_type": "code",
      "execution_count": 11,
      "id": "c2bc7ec2",
      "metadata": {
        "execution": {
          "iopub.execute_input": "2023-06-16T08:06:36.612865Z",
          "iopub.status.busy": "2023-06-16T08:06:36.612116Z",
          "iopub.status.idle": "2023-06-16T08:06:36.674375Z",
          "shell.execute_reply": "2023-06-16T08:06:36.673326Z"
        },
        "papermill": {
          "duration": 0.071673,
          "end_time": "2023-06-16T08:06:36.676858",
          "exception": false,
          "start_time": "2023-06-16T08:06:36.605185",
          "status": "completed"
        },
        "tags": [],
        "id": "c2bc7ec2"
      },
      "outputs": [],
      "source": [
        "# Test the model on the testing set\n",
        "predictions = algo.test(testset)"
      ]
    },
    {
      "cell_type": "code",
      "execution_count": 12,
      "id": "a753af03",
      "metadata": {
        "execution": {
          "iopub.execute_input": "2023-06-16T08:06:36.690299Z",
          "iopub.status.busy": "2023-06-16T08:06:36.689907Z",
          "iopub.status.idle": "2023-06-16T08:06:36.695678Z",
          "shell.execute_reply": "2023-06-16T08:06:36.694666Z"
        },
        "papermill": {
          "duration": 0.015384,
          "end_time": "2023-06-16T08:06:36.698016",
          "exception": false,
          "start_time": "2023-06-16T08:06:36.682632",
          "status": "completed"
        },
        "tags": [],
        "colab": {
          "base_uri": "https://localhost:8080/"
        },
        "id": "a753af03",
        "outputId": "2053fd27-b221-4b12-9b0d-44f5673b279a"
      },
      "outputs": [
        {
          "output_type": "stream",
          "name": "stdout",
          "text": [
            "User 8407 rated item 50872 with a rating of 3.5\n",
            "User 3831 rated item 4310 with a rating of 1.0\n",
            "User 29102 rated item 745 with a rating of 5.0\n",
            "User 29021 rated item 1073 with a rating of 4.0\n",
            "User 7420 rated item 63082 with a rating of 5.0\n"
          ]
        }
      ],
      "source": [
        "for uid, iid, rating in testset[:5]:\n",
        "    print(f\"User {uid} rated item {iid} with a rating of {rating}\")"
      ]
    },
    {
      "cell_type": "markdown",
      "id": "f3ed57e3",
      "metadata": {
        "papermill": {
          "duration": 0.005697,
          "end_time": "2023-06-16T08:06:36.709834",
          "exception": false,
          "start_time": "2023-06-16T08:06:36.704137",
          "status": "completed"
        },
        "tags": [],
        "id": "f3ed57e3"
      },
      "source": [
        "The 'predictions' is a list of tuples of the form (user, item, actual_rating, predicted_rating, details). The predicted_rating is est value."
      ]
    },
    {
      "cell_type": "code",
      "execution_count": 13,
      "id": "685ffe09",
      "metadata": {
        "execution": {
          "iopub.execute_input": "2023-06-16T08:06:36.723071Z",
          "iopub.status.busy": "2023-06-16T08:06:36.722698Z",
          "iopub.status.idle": "2023-06-16T08:06:36.728608Z",
          "shell.execute_reply": "2023-06-16T08:06:36.727433Z"
        },
        "papermill": {
          "duration": 0.015469,
          "end_time": "2023-06-16T08:06:36.731110",
          "exception": false,
          "start_time": "2023-06-16T08:06:36.715641",
          "status": "completed"
        },
        "tags": [],
        "colab": {
          "base_uri": "https://localhost:8080/"
        },
        "id": "685ffe09",
        "outputId": "c408d809-994b-4d9f-b51b-7ca7bc077040"
      },
      "outputs": [
        {
          "output_type": "stream",
          "name": "stdout",
          "text": [
            "user: 8407       item: 50872      r_ui = 3.50   est = 3.53   {'was_impossible': True, 'reason': 'User and/or item is unknown.'}\n",
            "user: 3831       item: 4310       r_ui = 1.00   est = 3.53   {'was_impossible': True, 'reason': 'Not enough neighbors.'}\n",
            "user: 29102      item: 745        r_ui = 5.00   est = 3.53   {'was_impossible': True, 'reason': 'User and/or item is unknown.'}\n",
            "user: 29021      item: 1073       r_ui = 4.00   est = 3.53   {'was_impossible': True, 'reason': 'Not enough neighbors.'}\n",
            "user: 7420       item: 63082      r_ui = 5.00   est = 3.53   {'was_impossible': True, 'reason': 'User and/or item is unknown.'}\n"
          ]
        }
      ],
      "source": [
        "for prediction in predictions[0:5]:\n",
        "    print(prediction)"
      ]
    },
    {
      "cell_type": "code",
      "execution_count": 14,
      "id": "b44395df",
      "metadata": {
        "execution": {
          "iopub.execute_input": "2023-06-16T08:06:36.745112Z",
          "iopub.status.busy": "2023-06-16T08:06:36.744247Z",
          "iopub.status.idle": "2023-06-16T08:06:36.755229Z",
          "shell.execute_reply": "2023-06-16T08:06:36.754119Z"
        },
        "papermill": {
          "duration": 0.020357,
          "end_time": "2023-06-16T08:06:36.757396",
          "exception": false,
          "start_time": "2023-06-16T08:06:36.737039",
          "status": "completed"
        },
        "tags": [],
        "colab": {
          "base_uri": "https://localhost:8080/"
        },
        "id": "b44395df",
        "outputId": "130c8592-c672-49b5-93e8-c9bd2d243e59"
      },
      "outputs": [
        {
          "output_type": "stream",
          "name": "stdout",
          "text": [
            "RMSE: 1.0448\n"
          ]
        },
        {
          "output_type": "execute_result",
          "data": {
            "text/plain": [
              "1.0448490492923401"
            ]
          },
          "metadata": {},
          "execution_count": 14
        }
      ],
      "source": [
        "# Print the performance metrics\n",
        "accuracy.rmse(predictions)"
      ]
    },
    {
      "cell_type": "code",
      "execution_count": 15,
      "id": "f0046a28",
      "metadata": {
        "execution": {
          "iopub.execute_input": "2023-06-16T08:06:36.771964Z",
          "iopub.status.busy": "2023-06-16T08:06:36.771599Z",
          "iopub.status.idle": "2023-06-16T08:06:36.778518Z",
          "shell.execute_reply": "2023-06-16T08:06:36.777483Z"
        },
        "papermill": {
          "duration": 0.016969,
          "end_time": "2023-06-16T08:06:36.780640",
          "exception": false,
          "start_time": "2023-06-16T08:06:36.763671",
          "status": "completed"
        },
        "tags": [],
        "id": "f0046a28"
      },
      "outputs": [],
      "source": [
        "true_ratings = [pred.r_ui for pred in predictions]\n",
        "est_ratings = [pred.est for pred in predictions]\n",
        "uids = [pred.uid for pred in predictions]"
      ]
    },
    {
      "cell_type": "code",
      "execution_count": 16,
      "id": "6008596f",
      "metadata": {
        "execution": {
          "iopub.execute_input": "2023-06-16T08:06:36.794716Z",
          "iopub.status.busy": "2023-06-16T08:06:36.794341Z",
          "iopub.status.idle": "2023-06-16T08:06:41.622448Z",
          "shell.execute_reply": "2023-06-16T08:06:41.621184Z"
        },
        "papermill": {
          "duration": 4.838381,
          "end_time": "2023-06-16T08:06:41.625160",
          "exception": false,
          "start_time": "2023-06-16T08:06:36.786779",
          "status": "completed"
        },
        "tags": [],
        "colab": {
          "base_uri": "https://localhost:8080/",
          "height": 664
        },
        "id": "6008596f",
        "outputId": "67a5685d-10aa-40ce-cf8f-178a62f9cb33"
      },
      "outputs": [
        {
          "output_type": "stream",
          "name": "stderr",
          "text": [
            "/usr/local/lib/python3.10/dist-packages/seaborn/axisgrid.py:1883: UserWarning: Dataset has 0 variance; skipping density estimate. Pass `warn_singular=False` to disable this warning.\n",
            "  func(y=self.y, ax=self.ax_marg_y, **kwargs)\n"
          ]
        },
        {
          "output_type": "display_data",
          "data": {
            "text/plain": [
              "<Figure size 600x600 with 3 Axes>"
            ],
            "image/png": "[encoded data removed]"
          },
          "metadata": {}
        }
      ],
      "source": [
        "data=pd.DataFrame(columns=[\"true\",\"predicted\"])\n",
        "data[\"true\"]=true_ratings\n",
        "data[\"predicted\"]=est_ratings\n",
        "g = sns.jointplot(data=data,x=\"true\", y=\"predicted\", kind=\"kde\",)\n",
        "g.fig.suptitle('Test predictions',fontsize=12)\n",
        "plt.show()"
      ]
    },
    {
      "cell_type": "markdown",
      "id": "c00a76fb",
      "metadata": {
        "papermill": {
          "duration": 0.006492,
          "end_time": "2023-06-16T08:06:41.638411",
          "exception": false,
          "start_time": "2023-06-16T08:06:41.631919",
          "status": "completed"
        },
        "tags": [],
        "id": "c00a76fb"
      },
      "source": [
        "# Recommend unseen movies for test set users"
      ]
    },
    {
      "cell_type": "code",
      "execution_count": 17,
      "id": "6c2b2758",
      "metadata": {
        "execution": {
          "iopub.execute_input": "2023-06-16T08:06:41.653264Z",
          "iopub.status.busy": "2023-06-16T08:06:41.652842Z",
          "iopub.status.idle": "2023-06-16T08:06:41.842021Z",
          "shell.execute_reply": "2023-06-16T08:06:41.840813Z"
        },
        "papermill": {
          "duration": 0.199699,
          "end_time": "2023-06-16T08:06:41.844621",
          "exception": false,
          "start_time": "2023-06-16T08:06:41.644922",
          "status": "completed"
        },
        "tags": [],
        "id": "6c2b2758"
      },
      "outputs": [],
      "source": [
        "movies=pd.read_csv('movies.csv')\n",
        "mapping = movies.set_index(\"movieId\")[\"title\"].to_dict()"
      ]
    },
    {
      "cell_type": "code",
      "execution_count": 18,
      "id": "85fe3ceb",
      "metadata": {
        "execution": {
          "iopub.execute_input": "2023-06-16T08:06:41.859562Z",
          "iopub.status.busy": "2023-06-16T08:06:41.859171Z",
          "iopub.status.idle": "2023-06-16T08:06:41.865416Z",
          "shell.execute_reply": "2023-06-16T08:06:41.864122Z"
        },
        "papermill": {
          "duration": 0.016512,
          "end_time": "2023-06-16T08:06:41.867782",
          "exception": false,
          "start_time": "2023-06-16T08:06:41.851270",
          "status": "completed"
        },
        "tags": [],
        "id": "85fe3ceb"
      },
      "outputs": [],
      "source": [
        "users=list(set(uids))"
      ]
    },
    {
      "cell_type": "code",
      "execution_count": 19,
      "id": "4c589b5e",
      "metadata": {
        "execution": {
          "iopub.execute_input": "2023-06-16T08:06:41.884167Z",
          "iopub.status.busy": "2023-06-16T08:06:41.883313Z",
          "iopub.status.idle": "2023-06-16T08:10:15.299254Z",
          "shell.execute_reply": "2023-06-16T08:10:15.297896Z"
        },
        "papermill": {
          "duration": 213.426945,
          "end_time": "2023-06-16T08:10:15.301775",
          "exception": false,
          "start_time": "2023-06-16T08:06:41.874830",
          "status": "completed"
        },
        "tags": [],
        "colab": {
          "base_uri": "https://localhost:8080/"
        },
        "id": "4c589b5e",
        "outputId": "f627d3b6-48ca-468a-aae6-503b2086d989"
      },
      "outputs": [
        {
          "output_type": "stream",
          "name": "stdout",
          "text": [
            "For User 16387, Recommendations:\n",
            "  Notebook, The (2004) : Estimated rating 3.5279\n",
            "  Notting Hill (1999) : Estimated rating 3.5279\n",
            "  Searching for Bobby Fischer (1993) : Estimated rating 3.5279\n",
            "  One Hour Photo (2002) : Estimated rating 3.5279\n",
            "  Cruel Intentions (1999) : Estimated rating 3.5279\n",
            "For User 3, Recommendations:\n",
            "  Notebook, The (2004) : Estimated rating 3.5279\n",
            "  Notting Hill (1999) : Estimated rating 3.5279\n",
            "  Searching for Bobby Fischer (1993) : Estimated rating 3.5279\n",
            "  One Hour Photo (2002) : Estimated rating 3.5279\n",
            "  Cruel Intentions (1999) : Estimated rating 3.5279\n",
            "For User 24581, Recommendations:\n",
            "  Batman (1989) : Estimated rating 4.5\n",
            "  Enemy at the Gates (2001) : Estimated rating 4.5\n",
            "  Tootsie (1982) : Estimated rating 4.0\n",
            "  Bandits (2001) : Estimated rating 4.0\n",
            "  Event Horizon (1997) : Estimated rating 4.0\n",
            "For User 8215, Recommendations:\n",
            "  Westworld (1973) : Estimated rating 5\n",
            "  Notebook, The (2004) : Estimated rating 3.5279\n",
            "  Notting Hill (1999) : Estimated rating 3.5279\n",
            "  Searching for Bobby Fischer (1993) : Estimated rating 3.5279\n",
            "  One Hour Photo (2002) : Estimated rating 3.5279\n",
            "For User 24610, Recommendations:\n",
            "  Kick-Ass (2010) : Estimated rating 4.0\n",
            "  Notebook, The (2004) : Estimated rating 3.5279\n",
            "  Notting Hill (1999) : Estimated rating 3.5279\n",
            "  Searching for Bobby Fischer (1993) : Estimated rating 3.5279\n",
            "  One Hour Photo (2002) : Estimated rating 3.5279\n",
            "For User 36, Recommendations:\n",
            "  Notebook, The (2004) : Estimated rating 3.5279\n",
            "  Notting Hill (1999) : Estimated rating 3.5279\n",
            "  Searching for Bobby Fischer (1993) : Estimated rating 3.5279\n",
            "  One Hour Photo (2002) : Estimated rating 3.5279\n",
            "  Cruel Intentions (1999) : Estimated rating 3.5279\n",
            "For User 8231, Recommendations:\n",
            "  Natural Born Killers (1994) : Estimated rating 4.0\n",
            "  In the Name of the Father (1993) : Estimated rating 4.0\n",
            "  Shallow Grave (1994) : Estimated rating 4.0\n",
            "  Notebook, The (2004) : Estimated rating 3.5279\n",
            "  Notting Hill (1999) : Estimated rating 3.5279\n",
            "For User 24632, Recommendations:\n",
            "  Dogma (1999) : Estimated rating 4.5\n",
            "  Control Room (2004) : Estimated rating 4.5\n",
            "  Down to the Bone (2004) : Estimated rating 4.0\n",
            "  Notebook, The (2004) : Estimated rating 3.5279\n",
            "  Notting Hill (1999) : Estimated rating 3.5279\n",
            "For User 16452, Recommendations:\n",
            "  Cast Away (2000) : Estimated rating 5\n",
            "  Braveheart (1995) : Estimated rating 4.0\n",
            "  Happy Gilmore (1996) : Estimated rating 4.0\n",
            "  Mission: Impossible (1996) : Estimated rating 4.0\n",
            "  Night at the Roxbury, A (1998) : Estimated rating 4.0\n",
            "For User 24655, Recommendations:\n",
            "  Notebook, The (2004) : Estimated rating 3.5279\n",
            "  Notting Hill (1999) : Estimated rating 3.5279\n",
            "  Searching for Bobby Fischer (1993) : Estimated rating 3.5279\n",
            "  One Hour Photo (2002) : Estimated rating 3.5279\n",
            "  Cruel Intentions (1999) : Estimated rating 3.5279\n",
            "For User 16466, Recommendations:\n",
            "  Notebook, The (2004) : Estimated rating 3.5279\n",
            "  Notting Hill (1999) : Estimated rating 3.5279\n",
            "  Searching for Bobby Fischer (1993) : Estimated rating 3.5279\n",
            "  One Hour Photo (2002) : Estimated rating 3.5279\n",
            "  Cruel Intentions (1999) : Estimated rating 3.5279\n",
            "For User 24678, Recommendations:\n",
            "  Notebook, The (2004) : Estimated rating 3.5279\n",
            "  Notting Hill (1999) : Estimated rating 3.5279\n",
            "  Searching for Bobby Fischer (1993) : Estimated rating 3.5279\n",
            "  One Hour Photo (2002) : Estimated rating 3.5279\n",
            "  Cruel Intentions (1999) : Estimated rating 3.5279\n"
          ]
        }
      ],
      "source": [
        "# items which the user not yet evaluate\n",
        "items = trainset.build_anti_testset()\n",
        "for user in users[0:30]:\n",
        "    user_items = list(filter(lambda x: x[0] == user, items))\n",
        "    #print(user,len(user_items))\n",
        "    # generate recommendation\n",
        "    recommendations = algo.test(user_items)\n",
        "    if len(recommendations)>0:\n",
        "        recommendations.sort(key=operator.itemgetter(3), reverse=True)\n",
        "        print(f\"For User {user}, Recommendations:\")\n",
        "        for r in recommendations[0:5]:\n",
        "            print(f\"  {mapping[r[1]]} : Estimated rating {round(r[3],4)}\")"
      ]
    }
  ],
  "metadata": {
    "kernelspec": {
      "display_name": "Python 3",
      "language": "python",
      "name": "python3"
    },
    "language_info": {
      "codemirror_mode": {
        "name": "ipython",
        "version": 3
      },
      "file_extension": ".py",
      "mimetype": "text/x-python",
      "name": "python",
      "nbconvert_exporter": "python",
      "pygments_lexer": "ipython3",
      "version": "3.10.10"
    },
    "papermill": {
      "default_parameters": {},
      "duration": 253.68747,
      "end_time": "2023-06-16T08:10:18.031892",
      "environment_variables": {},
      "exception": null,
      "input_path": "__notebook__.ipynb",
      "output_path": "__notebook__.ipynb",
      "parameters": {},
      "start_time": "2023-06-16T08:06:04.344422",
      "version": "2.4.0"
    },
    "colab": {
      "provenance": [],
      "include_colab_link": true
    }
  },
  "nbformat": 4,
  "nbformat_minor": 5
}